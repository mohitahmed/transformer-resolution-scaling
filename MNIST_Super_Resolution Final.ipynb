{
  "cells": [
    {
      "cell_type": "code",
      "execution_count": 57,
      "id": "2cb55e35-a351-4797-9002-55d637c8d814",
      "metadata": {
        "id": "2cb55e35-a351-4797-9002-55d637c8d814"
      },
      "outputs": [],
      "source": [
        "import os\n",
        "import torch\n",
        "import torch.nn as nn\n",
        "import torch.optim as optim\n",
        "import numpy as np\n",
        "from torchvision import transforms\n",
        "from torch.utils.data import Dataset, DataLoader\n",
        "from torchvision.models import vgg19\n",
        "from PIL import Image\n",
        "from tqdm import tqdm\n",
        "from skimage.metrics import peak_signal_noise_ratio as psnr, structural_similarity as ssim\n",
        "import random\n",
        "import torch.nn.functional as F\n",
        "from sklearn.model_selection import LeaveOneOut\n",
        "import matplotlib.pyplot as plt\n",
        "import time\n",
        "import glob\n",
        "import imageio.v2 as imageio\n",
        "import matplotlib.image as mpimg"
      ]
    },
    {
      "cell_type": "code",
      "execution_count": 27,
      "id": "3b1e3f7f-f712-4778-b115-89490ad2f5b8",
      "metadata": {
        "id": "3b1e3f7f-f712-4778-b115-89490ad2f5b8"
      },
      "outputs": [],
      "source": [
        "def set_seed(seed=42):\n",
        "    \"\"\"Set seeds for reproducibility\"\"\"\n",
        "    random.seed(seed)\n",
        "    np.random.seed(seed)\n",
        "    torch.manual_seed(seed)\n",
        "    torch.cuda.manual_seed(seed)\n",
        "    torch.cuda.manual_seed_all(seed)  # if using multiple GPUs\n",
        "    torch.backends.cudnn.deterministic = True\n",
        "    torch.backends.cudnn.benchmark = False"
      ]
    },
    {
      "cell_type": "code",
      "source": [
        "import numpy as np\n",
        "from tensorflow.keras.datasets import mnist\n",
        "\n",
        "def load_mnist():\n",
        "\n",
        "    (train_images, train_labels), (test_images, test_labels) = mnist.load_data()\n",
        "\n",
        "    # Normalize images to [0, 1]\n",
        "    train_images = train_images.astype('float32') / 255.0\n",
        "    test_images = test_images.astype('float32') / 255.0\n",
        "\n",
        "    # Set alias variables to match previous format\n",
        "    X_train = train_images\n",
        "    Y_train = train_labels\n",
        "    X_test = test_images\n",
        "    Y_test = test_labels\n",
        "\n",
        "    return X_train, Y_train, X_test, Y_test\n"
      ],
      "metadata": {
        "id": "p1ZzFMDNLXGV"
      },
      "id": "p1ZzFMDNLXGV",
      "execution_count": 28,
      "outputs": []
    },
    {
      "cell_type": "code",
      "execution_count": 29,
      "id": "29d84df2-c52d-454b-99a0-6d26113df399",
      "metadata": {
        "colab": {
          "base_uri": "https://localhost:8080/"
        },
        "id": "29d84df2-c52d-454b-99a0-6d26113df399",
        "outputId": "ef69ccfd-4ed0-40f2-b840-c105a0d6d8d2"
      },
      "outputs": [
        {
          "output_type": "stream",
          "name": "stdout",
          "text": [
            "Loading the Dataset...\n",
            "Dataset Loaded in 0.41 seconds!\n"
          ]
        }
      ],
      "source": [
        "# Load MNIST data\n",
        "print(\"Loading the Dataset...\")\n",
        "start_time = time.time()\n",
        "X_train_images, Y_train, X_test_images, Y_test = load_mnist()\n",
        "load_time = time.time() - start_time\n",
        "print(f\"Dataset Loaded in {load_time:.2f} seconds!\")"
      ]
    },
    {
      "cell_type": "code",
      "execution_count": 30,
      "id": "7134e3e9-eb2f-4e01-bd45-e65890459313",
      "metadata": {
        "id": "7134e3e9-eb2f-4e01-bd45-e65890459313"
      },
      "outputs": [],
      "source": [
        "class MultiscalePatchEmbedding(nn.Module):\n",
        "    def __init__(self, in_channels=1, embed_dim_large=384, embed_dim_small=192, patch_size_large=7, patch_size_small=3):\n",
        "        super(MultiscalePatchEmbedding, self).__init__()\n",
        "        self.proj_large = nn.Conv2d(in_channels, embed_dim_large, kernel_size=patch_size_large, stride=patch_size_large)\n",
        "        self.proj_small = nn.Conv2d(in_channels, embed_dim_small, kernel_size=patch_size_small, stride=patch_size_small)\n",
        "\n",
        "    def forward(self, x):\n",
        "        x_large = self.proj_large(x).flatten(2).transpose(1, 2)\n",
        "        x_small = self.proj_small(x).flatten(2).transpose(1, 2)\n",
        "        return x_large, x_small"
      ]
    },
    {
      "cell_type": "code",
      "execution_count": 31,
      "id": "7dd74ff1-4d1c-47cd-a440-0c39b28336c2",
      "metadata": {
        "id": "7dd74ff1-4d1c-47cd-a440-0c39b28336c2"
      },
      "outputs": [],
      "source": [
        "class TransformerEncoderBlock(nn.Module):\n",
        "    def __init__(self, embed_dim, num_heads, mlp_dim, dropout=0.1):\n",
        "        super(TransformerEncoderBlock, self).__init__()\n",
        "        self.attn = nn.MultiheadAttention(embed_dim, num_heads, dropout=dropout)\n",
        "        self.norm1 = nn.LayerNorm(embed_dim)\n",
        "        self.mlp = nn.Sequential(\n",
        "            nn.Linear(embed_dim, mlp_dim),\n",
        "            nn.GELU(),\n",
        "            nn.Linear(mlp_dim, embed_dim),\n",
        "        )\n",
        "        self.norm2 = nn.LayerNorm(embed_dim)\n",
        "\n",
        "    def forward(self, x):\n",
        "        attn_output, _ = self.attn(x, x, x)\n",
        "        x = x + attn_output\n",
        "        x = self.norm1(x)\n",
        "        x = x + self.mlp(x)\n",
        "        x = self.norm2(x)\n",
        "        return x"
      ]
    },
    {
      "cell_type": "code",
      "execution_count": 32,
      "id": "73678fed-4a5a-4ea4-8fdf-99dbd66d6ebf",
      "metadata": {
        "id": "73678fed-4a5a-4ea4-8fdf-99dbd66d6ebf"
      },
      "outputs": [],
      "source": [
        "class MultiscaleViTEncoder(nn.Module):\n",
        "    def __init__(self, embed_dim_large, embed_dim_small, num_heads_large, num_heads_small, num_layers):\n",
        "        super(MultiscaleViTEncoder, self).__init__()\n",
        "        self.encoder_large = nn.ModuleList([TransformerEncoderBlock(embed_dim_large, num_heads_large, embed_dim_large * 4) for _ in range(num_layers)])\n",
        "        self.encoder_small = nn.ModuleList([TransformerEncoderBlock(embed_dim_small, num_heads_small, embed_dim_small * 4) for _ in range(num_layers)])\n",
        "\n",
        "    def forward(self, x_large, x_small):\n",
        "        for layer in self.encoder_large:\n",
        "            x_large = layer(x_large)\n",
        "        for layer in self.encoder_small:\n",
        "            x_small = layer(x_small)\n",
        "        return x_large, x_small"
      ]
    },
    {
      "cell_type": "code",
      "execution_count": 33,
      "id": "8b282c01-eaf0-4a45-addc-06b29938b2a5",
      "metadata": {
        "id": "8b282c01-eaf0-4a45-addc-06b29938b2a5"
      },
      "outputs": [],
      "source": [
        "class MergeMultiscale(nn.Module):\n",
        "    def __init__(self, embed_dim_large=384, embed_dim_small=192, merged_dim=512):\n",
        "        super(MergeMultiscale, self).__init__()\n",
        "        self.fc_large = nn.Linear(embed_dim_large, merged_dim)\n",
        "        self.fc_small = nn.Linear(embed_dim_small, merged_dim)\n",
        "\n",
        "    def forward(self, x_large, x_small, num_patches_small):\n",
        "        x_large = self.fc_large(x_large)\n",
        "        x_small = self.fc_small(x_small)\n",
        "        target_size = int(num_patches_small ** 0.5)\n",
        "        grid_large_size = int(x_large.size(1) ** 0.5)\n",
        "        x_large = F.interpolate(\n",
        "            x_large.transpose(1, 2).reshape(-1, x_large.size(2), grid_large_size, grid_large_size),\n",
        "            size=(target_size, target_size),\n",
        "            mode=\"bilinear\",\n",
        "            align_corners=True\n",
        "        ).flatten(2).transpose(1, 2)\n",
        "        x = torch.cat([x_large, x_small], dim=1)\n",
        "        return x"
      ]
    },
    {
      "cell_type": "code",
      "execution_count": 34,
      "id": "b7eb3ca8-8873-4945-9125-c2ac0dd5b1d2",
      "metadata": {
        "id": "b7eb3ca8-8873-4945-9125-c2ac0dd5b1d2"
      },
      "outputs": [],
      "source": [
        "class PixelShuffleBlock(nn.Module):\n",
        "    def __init__(self, in_channels, out_channels, upscale_factor=2):\n",
        "        super(PixelShuffleBlock, self).__init__()\n",
        "        self.conv = nn.Conv2d(in_channels, out_channels * (upscale_factor ** 2), kernel_size=3, stride=1, padding=1)\n",
        "        self.pixel_shuffle = nn.PixelShuffle(upscale_factor)\n",
        "        self.relu = nn.ReLU()\n",
        "\n",
        "    def forward(self, x):\n",
        "        x = self.conv(x)\n",
        "        x = self.pixel_shuffle(x)\n",
        "        x = self.relu(x)\n",
        "        return x"
      ]
    },
    {
      "cell_type": "code",
      "execution_count": 35,
      "id": "3e6790b4-c9e0-42ea-951e-f23750bc9efc",
      "metadata": {
        "id": "3e6790b4-c9e0-42ea-951e-f23750bc9efc"
      },
      "outputs": [],
      "source": [
        "class Decoder(nn.Module):\n",
        "    def __init__(self, merged_dim=512, out_channels=1, upscale_factor=2):\n",
        "        super(Decoder, self).__init__()\n",
        "        self.upscale_factor = upscale_factor\n",
        "        self.initial_conv = nn.Conv2d(merged_dim, 256, kernel_size=3, stride=1, padding=1)\n",
        "        self.pixel_shuffle_blocks = nn.Sequential(\n",
        "            PixelShuffleBlock(256, 128),\n",
        "            PixelShuffleBlock(128, 64),\n",
        "        )\n",
        "        self.final_conv = nn.Conv2d(64, out_channels, kernel_size=3, stride=1, padding=1)\n",
        "\n",
        "    def forward(self, x, H, W):\n",
        "        batch_size, num_patches, embed_dim = x.size()\n",
        "        grid_height = int(np.ceil(np.sqrt(num_patches)))\n",
        "        grid_width = int(np.ceil(num_patches / grid_height))\n",
        "        padding_patches = grid_height * grid_width - num_patches\n",
        "        if padding_patches > 0:\n",
        "            pad = torch.zeros(batch_size, padding_patches, embed_dim, device=x.device)\n",
        "            x = torch.cat([x, pad], dim=1)\n",
        "        x = x.transpose(1, 2).reshape(batch_size, embed_dim, grid_height, grid_width)\n",
        "        x = self.initial_conv(x)\n",
        "        x = self.pixel_shuffle_blocks(x)\n",
        "        x = self.final_conv(x)\n",
        "        x = F.interpolate(\n",
        "            x,\n",
        "            size=(H * self.upscale_factor, W * self.upscale_factor),\n",
        "            mode=\"bilinear\",\n",
        "            align_corners=True\n",
        "        )  # Upscale by the factor\n",
        "        return x"
      ]
    },
    {
      "cell_type": "code",
      "execution_count": 36,
      "id": "a99810ed-66df-4d24-be7a-e95a3bd8e2ba",
      "metadata": {
        "id": "a99810ed-66df-4d24-be7a-e95a3bd8e2ba"
      },
      "outputs": [],
      "source": [
        "class EdgeLoss(nn.Module):\n",
        "    def forward(self, sr, hr):\n",
        "        sr_diff_x = torch.abs(torch.diff(sr, dim=2))\n",
        "        sr_diff_y = torch.abs(torch.diff(sr, dim=3))\n",
        "        hr_diff_x = torch.abs(torch.diff(hr, dim=2))\n",
        "        hr_diff_y = torch.abs(torch.diff(hr, dim=3))\n",
        "\n",
        "        sr_diff_x = nn.functional.pad(sr_diff_x, (0, 0, 1, 0))\n",
        "        sr_diff_y = nn.functional.pad(sr_diff_y, (1, 0, 0, 0))\n",
        "        hr_diff_x = nn.functional.pad(hr_diff_x, (0, 0, 1, 0))\n",
        "        hr_diff_y = nn.functional.pad(hr_diff_y, (1, 0, 0, 0))\n",
        "\n",
        "        sr_edge = sr_diff_x + sr_diff_y\n",
        "        hr_edge = hr_diff_x + hr_diff_y\n",
        "\n",
        "        return torch.mean((sr_edge - hr_edge) ** 2)"
      ]
    },
    {
      "cell_type": "code",
      "execution_count": 37,
      "id": "4c60992e-b950-4fb1-bbbf-7ed1da4c87cd",
      "metadata": {
        "id": "4c60992e-b950-4fb1-bbbf-7ed1da4c87cd"
      },
      "outputs": [],
      "source": [
        "class GrayscaleMultiscaleViTSuperResolution(nn.Module):\n",
        "    def __init__(self, embed_dim_large, embed_dim_small, patch_size_large, patch_size_small, upscale_factor=2):\n",
        "        super(GrayscaleMultiscaleViTSuperResolution, self).__init__()\n",
        "        self.patch_embed = MultiscalePatchEmbedding(1, embed_dim_large, embed_dim_small, patch_size_large, patch_size_small)\n",
        "        self.encoder = MultiscaleViTEncoder(embed_dim_large, embed_dim_small, 4, 2, 4)  # Reduced heads and layers\n",
        "        self.merge = MergeMultiscale(embed_dim_large, embed_dim_small, 512)  # Reduced merged dim\n",
        "        self.decoder = Decoder(512, 1, upscale_factor)  # 1 output channel for grayscale\n",
        "\n",
        "    def forward(self, x):\n",
        "        H, W = x.shape[2], x.shape[3]\n",
        "        x_large, x_small = self.patch_embed(x)\n",
        "        x_large, x_small = self.encoder(x_large, x_small)\n",
        "        x = self.merge(x_large, x_small, x_small.size(1))\n",
        "        x = self.decoder(x, H, W)\n",
        "        return x"
      ]
    },
    {
      "cell_type": "code",
      "execution_count": 38,
      "id": "b4fae11b-d842-4d05-b0b7-1a8d65ea8b40",
      "metadata": {
        "id": "b4fae11b-d842-4d05-b0b7-1a8d65ea8b40"
      },
      "outputs": [],
      "source": [
        "class MNISTSuperResolutionDataset(Dataset):\n",
        "    def __init__(self, images, transform=None, augment=False):\n",
        "        self.images = images  # Original 28x28 images\n",
        "        self.transform = transform\n",
        "        self.augment = augment\n",
        "\n",
        "    def __len__(self):\n",
        "        return len(self.images)\n",
        "\n",
        "    def __getitem__(self, idx):\n",
        "        # Get original 28x28 image\n",
        "        hr_image = self.images[idx].reshape(28, 28)\n",
        "\n",
        "        # Convert to PIL for resize operations\n",
        "        hr_image_pil = Image.fromarray((hr_image * 255).astype(np.uint8))\n",
        "\n",
        "        # Create low-resolution 14x14 image\n",
        "        lr_image_pil = hr_image_pil.resize((14, 14), Image.BILINEAR)\n",
        "\n",
        "        # Convert back to tensor\n",
        "        if self.transform:\n",
        "            hr_image = self.transform(hr_image_pil)\n",
        "            lr_image = self.transform(lr_image_pil)\n",
        "        else:\n",
        "            hr_image = transforms.ToTensor()(hr_image_pil)\n",
        "            lr_image = transforms.ToTensor()(lr_image_pil)\n",
        "\n",
        "        # Apply augmentations if needed\n",
        "        if self.augment:\n",
        "            if random.random() > 0.5:\n",
        "                hr_image = transforms.functional.hflip(hr_image)\n",
        "                lr_image = transforms.functional.hflip(lr_image)\n",
        "            if random.random() > 0.5:\n",
        "                hr_image = transforms.functional.vflip(hr_image)\n",
        "                lr_image = transforms.functional.vflip(lr_image)\n",
        "\n",
        "        return lr_image, hr_image"
      ]
    },
    {
      "cell_type": "code",
      "execution_count": 39,
      "id": "248ea2d5-b7c2-4417-bdf7-6ff655aa37ed",
      "metadata": {
        "id": "248ea2d5-b7c2-4417-bdf7-6ff655aa37ed"
      },
      "outputs": [],
      "source": [
        "# Transform\n",
        "transform = transforms.Compose([\n",
        "    transforms.ToTensor()\n",
        "])"
      ]
    },
    {
      "cell_type": "code",
      "execution_count": 40,
      "id": "4d201e84-fecc-49f4-a8d3-cb036f5892c6",
      "metadata": {
        "id": "4d201e84-fecc-49f4-a8d3-cb036f5892c6"
      },
      "outputs": [],
      "source": [
        "# Split training data into train and validation\n",
        "val_split = 0.1\n",
        "val_size = int(len(X_train_images) * val_split)\n",
        "train_size = len(X_train_images) - val_size\n",
        "\n",
        "train_images = X_train_images[:train_size]\n",
        "val_images = X_train_images[train_size:]"
      ]
    },
    {
      "cell_type": "code",
      "execution_count": 41,
      "id": "15798ae9-6359-4702-8de4-c4f22d6fbc3f",
      "metadata": {
        "id": "15798ae9-6359-4702-8de4-c4f22d6fbc3f"
      },
      "outputs": [],
      "source": [
        "\n",
        "# Create datasets\n",
        "train_dataset = MNISTSuperResolutionDataset(train_images, transform=transform, augment=True)\n",
        "val_dataset = MNISTSuperResolutionDataset(val_images, transform=transform, augment=False)\n",
        "test_dataset = MNISTSuperResolutionDataset(X_test_images, transform=transform, augment=False)"
      ]
    },
    {
      "cell_type": "code",
      "execution_count": 42,
      "id": "c19797a5-b063-4517-b50d-e2f070decd02",
      "metadata": {
        "id": "c19797a5-b063-4517-b50d-e2f070decd02"
      },
      "outputs": [],
      "source": [
        "# Create data loaders\n",
        "batch_size = 32\n",
        "train_loader = DataLoader(train_dataset, batch_size=batch_size, shuffle=True)\n",
        "val_loader = DataLoader(val_dataset, batch_size=batch_size, shuffle=False)\n",
        "test_loader = DataLoader(test_dataset, batch_size=1, shuffle=False)"
      ]
    },
    {
      "cell_type": "code",
      "execution_count": 43,
      "id": "2d0bcf33-097a-4faf-a4cf-55e47baf23b4",
      "metadata": {
        "id": "2d0bcf33-097a-4faf-a4cf-55e47baf23b4"
      },
      "outputs": [],
      "source": [
        "# Initialize model - adjusted for MNIST size\n",
        "model = GrayscaleMultiscaleViTSuperResolution(\n",
        "    embed_dim_large=192,  # Smaller for MNIST\n",
        "    embed_dim_small=96,\n",
        "    patch_size_large=7,   # For 14x14 input\n",
        "    patch_size_small=3,   # For 14x14 input\n",
        "    upscale_factor=2\n",
        ").cuda()"
      ]
    },
    {
      "cell_type": "code",
      "source": [
        "device = torch.device(\"cuda\" if torch.cuda.is_available() else \"cpu\")\n",
        "print(f\"Using device: {device}\")\n",
        "\n",
        "# Move model to GPU\n",
        "model = model.to(device)"
      ],
      "metadata": {
        "colab": {
          "base_uri": "https://localhost:8080/"
        },
        "id": "zyy1_HGNMKwU",
        "outputId": "7c81a4a1-b9df-4b6a-e01a-be12788426a9"
      },
      "id": "zyy1_HGNMKwU",
      "execution_count": 44,
      "outputs": [
        {
          "output_type": "stream",
          "name": "stdout",
          "text": [
            "Using device: cuda\n"
          ]
        }
      ]
    },
    {
      "cell_type": "code",
      "execution_count": 45,
      "id": "a93e7b27-3517-4180-82f7-b0a516be6e2f",
      "metadata": {
        "id": "a93e7b27-3517-4180-82f7-b0a516be6e2f"
      },
      "outputs": [],
      "source": [
        "# Loss functions\n",
        "criterion = nn.MSELoss()\n",
        "edge_loss = EdgeLoss()"
      ]
    },
    {
      "cell_type": "code",
      "execution_count": 46,
      "id": "e925bf2f-e212-402e-9a2a-76774b308aea",
      "metadata": {
        "id": "e925bf2f-e212-402e-9a2a-76774b308aea"
      },
      "outputs": [],
      "source": [
        "# Directory for saving models and images\n",
        "os.makedirs('./mnist_super_resolution', exist_ok=True)"
      ]
    },
    {
      "cell_type": "code",
      "execution_count": 47,
      "id": "2c0ae54a-bea3-44aa-b40c-aa4b31954599",
      "metadata": {
        "id": "2c0ae54a-bea3-44aa-b40c-aa4b31954599"
      },
      "outputs": [],
      "source": [
        "# Initialize optimizer and scheduler\n",
        "optimizer = optim.Adam(model.parameters(), lr=1e-4, weight_decay=1e-5)\n",
        "scheduler = optim.lr_scheduler.ReduceLROnPlateau(optimizer, mode='min', factor=0.5, patience=5)"
      ]
    },
    {
      "cell_type": "code",
      "execution_count": 48,
      "id": "80fd6214-f165-409f-b1f6-491fc13cb403",
      "metadata": {
        "id": "80fd6214-f165-409f-b1f6-491fc13cb403"
      },
      "outputs": [],
      "source": [
        "# Training parameters\n",
        "num_epochs = 10\n",
        "best_val_loss = float('inf')\n",
        "train_losses, val_losses = [], []\n",
        "val_psnr_values, val_ssim_values = [], []"
      ]
    },
    {
      "cell_type": "code",
      "execution_count": 49,
      "id": "3a14dc76-b6af-4d3b-829f-3dcfe13d81a8",
      "metadata": {
        "colab": {
          "base_uri": "https://localhost:8080/"
        },
        "id": "3a14dc76-b6af-4d3b-829f-3dcfe13d81a8",
        "outputId": "ffe11e97-7234-46cb-b7ec-5c755a911b36"
      },
      "outputs": [
        {
          "output_type": "stream",
          "name": "stderr",
          "text": [
            "Epoch 1/10: 100%|██████████| 1688/1688 [00:53<00:00, 31.53it/s, Loss=0.0048]\n"
          ]
        },
        {
          "output_type": "stream",
          "name": "stdout",
          "text": [
            "Epoch 1/10 - Train Loss: 0.011846, Val Loss: 0.005727, PSNR: 22.72, SSIM: 0.8960\n",
            "Saved best model with validation loss: 0.005727\n"
          ]
        },
        {
          "output_type": "stream",
          "name": "stderr",
          "text": [
            "Epoch 2/10: 100%|██████████| 1688/1688 [00:51<00:00, 32.63it/s, Loss=0.0045]\n"
          ]
        },
        {
          "output_type": "stream",
          "name": "stdout",
          "text": [
            "Epoch 2/10 - Train Loss: 0.005053, Val Loss: 0.004495, PSNR: 23.77, SSIM: 0.9242\n",
            "Saved best model with validation loss: 0.004495\n"
          ]
        },
        {
          "output_type": "stream",
          "name": "stderr",
          "text": [
            "Epoch 3/10: 100%|██████████| 1688/1688 [00:50<00:00, 33.20it/s, Loss=0.0041]\n"
          ]
        },
        {
          "output_type": "stream",
          "name": "stdout",
          "text": [
            "Epoch 3/10 - Train Loss: 0.004286, Val Loss: 0.004077, PSNR: 24.20, SSIM: 0.9335\n",
            "Saved best model with validation loss: 0.004077\n"
          ]
        },
        {
          "output_type": "stream",
          "name": "stderr",
          "text": [
            "Epoch 4/10: 100%|██████████| 1688/1688 [00:50<00:00, 33.18it/s, Loss=0.0036]\n"
          ]
        },
        {
          "output_type": "stream",
          "name": "stdout",
          "text": [
            "Epoch 4/10 - Train Loss: 0.003917, Val Loss: 0.003766, PSNR: 24.54, SSIM: 0.9400\n",
            "Saved best model with validation loss: 0.003766\n"
          ]
        },
        {
          "output_type": "stream",
          "name": "stderr",
          "text": [
            "Epoch 5/10: 100%|██████████| 1688/1688 [00:50<00:00, 33.19it/s, Loss=0.0035]\n"
          ]
        },
        {
          "output_type": "stream",
          "name": "stdout",
          "text": [
            "Epoch 5/10 - Train Loss: 0.003702, Val Loss: 0.003554, PSNR: 24.80, SSIM: 0.9443\n",
            "Saved best model with validation loss: 0.003554\n"
          ]
        },
        {
          "output_type": "stream",
          "name": "stderr",
          "text": [
            "Epoch 6/10: 100%|██████████| 1688/1688 [00:50<00:00, 33.27it/s, Loss=0.0037]\n"
          ]
        },
        {
          "output_type": "stream",
          "name": "stdout",
          "text": [
            "Epoch 6/10 - Train Loss: 0.003547, Val Loss: 0.003453, PSNR: 24.91, SSIM: 0.9457\n",
            "Saved best model with validation loss: 0.003453\n"
          ]
        },
        {
          "output_type": "stream",
          "name": "stderr",
          "text": [
            "Epoch 7/10: 100%|██████████| 1688/1688 [00:51<00:00, 32.88it/s, Loss=0.0039]\n"
          ]
        },
        {
          "output_type": "stream",
          "name": "stdout",
          "text": [
            "Epoch 7/10 - Train Loss: 0.003438, Val Loss: 0.003368, PSNR: 25.03, SSIM: 0.9479\n",
            "Saved best model with validation loss: 0.003368\n"
          ]
        },
        {
          "output_type": "stream",
          "name": "stderr",
          "text": [
            "Epoch 8/10: 100%|██████████| 1688/1688 [00:51<00:00, 33.08it/s, Loss=0.0036]\n"
          ]
        },
        {
          "output_type": "stream",
          "name": "stdout",
          "text": [
            "Epoch 8/10 - Train Loss: 0.003355, Val Loss: 0.003273, PSNR: 25.16, SSIM: 0.9493\n",
            "Saved best model with validation loss: 0.003273\n"
          ]
        },
        {
          "output_type": "stream",
          "name": "stderr",
          "text": [
            "Epoch 9/10: 100%|██████████| 1688/1688 [00:50<00:00, 33.27it/s, Loss=0.0033]\n"
          ]
        },
        {
          "output_type": "stream",
          "name": "stdout",
          "text": [
            "Epoch 9/10 - Train Loss: 0.003289, Val Loss: 0.003248, PSNR: 25.18, SSIM: 0.9503\n",
            "Saved best model with validation loss: 0.003248\n"
          ]
        },
        {
          "output_type": "stream",
          "name": "stderr",
          "text": [
            "Epoch 10/10: 100%|██████████| 1688/1688 [00:51<00:00, 33.03it/s, Loss=0.0028]\n"
          ]
        },
        {
          "output_type": "stream",
          "name": "stdout",
          "text": [
            "Epoch 10/10 - Train Loss: 0.003240, Val Loss: 0.003247, PSNR: 25.19, SSIM: 0.9494\n",
            "Saved best model with validation loss: 0.003247\n"
          ]
        }
      ],
      "source": [
        "# Training loop\n",
        "for epoch in range(num_epochs):\n",
        "    # Training\n",
        "    model.train()\n",
        "    train_loss = 0.0\n",
        "    progress_bar = tqdm(train_loader, desc=f\"Epoch {epoch+1}/{num_epochs}\")\n",
        "\n",
        "    for lr, hr in progress_bar:\n",
        "        lr, hr = lr.cuda(), hr.cuda()\n",
        "\n",
        "        # Forward pass\n",
        "        sr = model(lr)\n",
        "\n",
        "        # Calculate loss\n",
        "        loss = criterion(sr, hr) + 0.01 * edge_loss(sr, hr)\n",
        "\n",
        "        # Backward pass and optimize\n",
        "        optimizer.zero_grad()\n",
        "        loss.backward()\n",
        "        optimizer.step()\n",
        "\n",
        "        # Update training loss\n",
        "        train_loss += loss.item()\n",
        "        progress_bar.set_postfix({\"Loss\": f\"{loss.item():.4f}\"})\n",
        "\n",
        "    train_loss /= len(train_loader)\n",
        "    train_losses.append(train_loss)\n",
        "\n",
        "    # Validation\n",
        "    model.eval()\n",
        "    val_loss = 0.0\n",
        "    val_psnr = []\n",
        "    val_ssim = []\n",
        "\n",
        "    with torch.no_grad():\n",
        "        for lr, hr in val_loader:\n",
        "            lr, hr = lr.cuda(), hr.cuda()\n",
        "\n",
        "            # Generate super-resolution image\n",
        "            sr = model(lr)\n",
        "\n",
        "            # Calculate loss\n",
        "            val_loss += criterion(sr, hr).item()\n",
        "\n",
        "            # Calculate PSNR and SSIM for each image in batch\n",
        "            for i in range(sr.size(0)):\n",
        "                sr_np = sr[i].cpu().permute(1, 2, 0).numpy().squeeze()\n",
        "                hr_np = hr[i].cpu().permute(1, 2, 0).numpy().squeeze()\n",
        "\n",
        "                val_psnr.append(psnr(hr_np, sr_np, data_range=1.0))\n",
        "                val_ssim.append(ssim(hr_np, sr_np, data_range=1.0))\n",
        "\n",
        "    val_loss /= len(val_loader)\n",
        "    val_losses.append(val_loss)\n",
        "\n",
        "    avg_psnr = np.mean(val_psnr)\n",
        "    avg_ssim = np.mean(val_ssim)\n",
        "    val_psnr_values.append(avg_psnr)\n",
        "    val_ssim_values.append(avg_ssim)\n",
        "\n",
        "    # Update learning rate scheduler\n",
        "    scheduler.step(val_loss)\n",
        "\n",
        "    # Print statistics\n",
        "    print(f\"Epoch {epoch+1}/{num_epochs} - Train Loss: {train_loss:.6f}, Val Loss: {val_loss:.6f}, PSNR: {avg_psnr:.2f}, SSIM: {avg_ssim:.4f}\")\n",
        "\n",
        "    # Save best model\n",
        "    if val_loss < best_val_loss:\n",
        "        best_val_loss = val_loss\n",
        "        torch.save(model.state_dict(), './mnist_super_resolution/best_model.pth')\n",
        "        print(f\"Saved best model with validation loss: {best_val_loss:.6f}\")\n",
        "\n",
        "    # Save example images every 5 epochs\n",
        "    if (epoch + 1) % 5 == 0:\n",
        "        # Save some example images\n",
        "        with torch.no_grad():\n",
        "            for i, (lr, hr) in enumerate(test_loader):\n",
        "                if i >= 10:  # Save first 10 test images\n",
        "                    break\n",
        "\n",
        "                lr, hr = lr.cuda(), hr.cuda()\n",
        "                sr = model(lr)\n",
        "\n",
        "                # Convert tensors to numpy arrays\n",
        "                lr_np = lr[0].cpu().permute(1, 2, 0).numpy().squeeze()\n",
        "                hr_np = hr[0].cpu().permute(1, 2, 0).numpy().squeeze()\n",
        "                sr_np = sr[0].cpu().permute(1, 2, 0).numpy().squeeze()\n",
        "\n",
        "                # Create comparison image\n",
        "                fig, axes = plt.subplots(1, 3, figsize=(15, 5))\n",
        "                axes[0].imshow(lr_np, cmap='gray')\n",
        "                axes[0].set_title('Low Resolution (14x14)')\n",
        "                axes[0].axis('off')\n",
        "\n",
        "                axes[1].imshow(sr_np, cmap='gray')\n",
        "                axes[1].set_title(f'Super Resolution (28x28)\\nPSNR: {psnr(hr_np, sr_np, data_range=1.0):.2f}, SSIM: {ssim(hr_np, sr_np, data_range=1.0):.4f}')\n",
        "                axes[1].axis('off')\n",
        "\n",
        "                axes[2].imshow(hr_np, cmap='gray')\n",
        "                axes[2].set_title('Original (28x28)')\n",
        "                axes[2].axis('off')\n",
        "\n",
        "                plt.tight_layout()\n",
        "                plt.savefig(f'./mnist_super_resolution/comparison_epoch{epoch+1}_img{i}.png')\n",
        "                plt.close()"
      ]
    },
    {
      "cell_type": "code",
      "execution_count": 50,
      "id": "a113eb03-6283-4da7-92ef-0dca8bb8b9b5",
      "metadata": {
        "id": "a113eb03-6283-4da7-92ef-0dca8bb8b9b5"
      },
      "outputs": [],
      "source": [
        "# Plot training and validation loss\n",
        "plt.figure(figsize=(10, 5))\n",
        "plt.plot(train_losses, label='Training Loss')\n",
        "plt.plot(val_losses, label='Validation Loss')\n",
        "plt.xlabel('Epoch')\n",
        "plt.ylabel('Loss')\n",
        "plt.title('Training and Validation Loss')\n",
        "plt.legend()\n",
        "plt.grid(True)\n",
        "plt.savefig('./mnist_super_resolution/loss_plot.png')\n",
        "plt.close()\n",
        "\n"
      ]
    },
    {
      "cell_type": "code",
      "execution_count": 51,
      "id": "1485a52b-c991-4016-804d-ba2fe05afbfa",
      "metadata": {
        "colab": {
          "base_uri": "https://localhost:8080/",
          "height": 487
        },
        "id": "1485a52b-c991-4016-804d-ba2fe05afbfa",
        "outputId": "d3eb7434-898e-4f4e-c7fd-6deb3aa49abb"
      },
      "outputs": [
        {
          "output_type": "display_data",
          "data": {
            "text/plain": [
              "<Figure size 1000x500 with 1 Axes>"
            ],
            "image/png": "[encoded data removed]"
          },
          "metadata": {}
        }
      ],
      "source": [
        "# Plot PSNR and SSIM\n",
        "plt.figure(figsize=(10, 5))\n",
        "plt.subplot(1, 2, 1)\n",
        "plt.plot(val_psnr_values)\n",
        "plt.xlabel('Epoch')\n",
        "plt.ylabel('PSNR (dB)')\n",
        "plt.title('Validation PSNR')\n",
        "plt.grid(True)\n",
        "\n"
      ]
    },
    {
      "cell_type": "code",
      "source": [
        "plt.subplot(1, 2, 2)\n",
        "plt.plot(val_ssim_values)\n",
        "plt.xlabel('Epoch')\n",
        "plt.ylabel('SSIM')\n",
        "plt.title('Validation SSIM')\n",
        "plt.grid(True)\n",
        "\n"
      ],
      "metadata": {
        "id": "3ZYpG07HPXAH",
        "colab": {
          "base_uri": "https://localhost:8080/",
          "height": 472
        },
        "outputId": "d6bf6257-5272-41fe-fced-26576b8d7c49"
      },
      "id": "3ZYpG07HPXAH",
      "execution_count": 52,
      "outputs": [
        {
          "output_type": "display_data",
          "data": {
            "text/plain": [
              "<Figure size 640x480 with 1 Axes>"
            ],
            "image/png": "[encoded data removed]"
          },
          "metadata": {}
        }
      ]
    },
    {
      "cell_type": "code",
      "source": [
        "img_path = '/content/mnist_super_resolution/comparison_epoch10_img0.png'\n",
        "img = mpimg.imread(img_path)\n",
        "plt.imshow(img)\n",
        "plt.axis('off')\n",
        "plt.show()"
      ],
      "metadata": {
        "colab": {
          "base_uri": "https://localhost:8080/",
          "height": 202
        },
        "id": "oJe8bVsLsBH3",
        "outputId": "ece05f2d-421a-43c1-e493-941972445f9c"
      },
      "id": "oJe8bVsLsBH3",
      "execution_count": 58,
      "outputs": [
        {
          "output_type": "display_data",
          "data": {
            "text/plain": [
              "<Figure size 640x480 with 1 Axes>"
            ],
            "image/png": "[encoded data removed]"
          },
          "metadata": {}
        }
      ]
    },
    {
      "cell_type": "code",
      "source": [
        "img_path = '/content/mnist_super_resolution/comparison_epoch10_img1.png'\n",
        "img = mpimg.imread(img_path)\n",
        "plt.imshow(img)\n",
        "plt.axis('off')\n",
        "plt.show()"
      ],
      "metadata": {
        "colab": {
          "base_uri": "https://localhost:8080/",
          "height": 202
        },
        "id": "6fV7eXOisd9f",
        "outputId": "9269b621-aa4b-4a69-e1c5-99769588835a"
      },
      "id": "6fV7eXOisd9f",
      "execution_count": 59,
      "outputs": [
        {
          "output_type": "display_data",
          "data": {
            "text/plain": [
              "<Figure size 640x480 with 1 Axes>"
            ],
            "image/png": "[encoded data removed]"
          },
          "metadata": {}
        }
      ]
    },
    {
      "cell_type": "code",
      "source": [
        "\n",
        "# Final evaluation on test set\n",
        "model.load_state_dict(torch.load('./mnist_super_resolution/best_model.pth', weights_only=True))\n",
        "model.eval()\n",
        "\n",
        "test_psnr = []\n",
        "test_ssim = []\n",
        "\n",
        "with torch.no_grad():\n",
        "    for lr, hr in tqdm(test_loader, desc=\"Evaluating Test Set\"):\n",
        "        lr, hr = lr.cuda(), hr.cuda()\n",
        "        sr = model(lr)\n",
        "\n",
        "        sr_np = sr[0].cpu().permute(1, 2, 0).numpy().squeeze()\n",
        "        hr_np = hr[0].cpu().permute(1, 2, 0).numpy().squeeze()\n",
        "\n",
        "        test_psnr.append(psnr(hr_np, sr_np, data_range=1.0))\n",
        "        test_ssim.append(ssim(hr_np, sr_np, data_range=1.0))\n",
        "\n",
        "print(f\"Test Results - Average PSNR: {np.mean(test_psnr):.2f} dB, Average SSIM: {np.mean(test_ssim):.4f}\")"
      ],
      "metadata": {
        "colab": {
          "base_uri": "https://localhost:8080/"
        },
        "id": "MOBuIcZNoEAw",
        "outputId": "1dccb72c-18ee-4e84-ffb0-9cf4dd97f256"
      },
      "id": "MOBuIcZNoEAw",
      "execution_count": 53,
      "outputs": [
        {
          "output_type": "stream",
          "name": "stderr",
          "text": [
            "Evaluating Test Set: 100%|██████████| 10000/10000 [01:09<00:00, 143.69it/s]"
          ]
        },
        {
          "output_type": "stream",
          "name": "stdout",
          "text": [
            "Test Results - Average PSNR: 25.19 dB, Average SSIM: 0.9471\n"
          ]
        },
        {
          "output_type": "stream",
          "name": "stderr",
          "text": [
            "\n"
          ]
        }
      ]
    }
  ],
  "metadata": {
    "kernelspec": {
      "display_name": "Python 3",
      "name": "python3"
    },
    "language_info": {
      "codemirror_mode": {
        "name": "ipython",
        "version": 3
      },
      "file_extension": ".py",
      "mimetype": "text/x-python",
      "name": "python",
      "nbconvert_exporter": "python",
      "pygments_lexer": "ipython3",
      "version": "3.11.9"
    },
    "colab": {
      "provenance": [],
      "gpuType": "T4"
    },
    "accelerator": "GPU"
  },
  "nbformat": 4,
  "nbformat_minor": 5
}